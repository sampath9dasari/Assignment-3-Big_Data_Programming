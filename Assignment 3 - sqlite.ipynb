{
 "cells": [
  {
   "cell_type": "code",
   "execution_count": 107,
   "metadata": {},
   "outputs": [],
   "source": [
    "import time\n",
    "\n",
    "start = time.process_time()\n",
    "\n",
    "import sqlite3\n",
    "import pandas as pd\n",
    "from pprint import pprint\n",
    "\n",
    "conn = None\n",
    "try:\n",
    "    conn = sqlite3.connect('database.sqlite')\n",
    "except Error as e:\n",
    "    print(e)\n",
    "# con = sqlite3.connect('database.sqlite')\n",
    "cursorObj = conn.cursor()"
   ]
  },
  {
   "cell_type": "code",
   "execution_count": 108,
   "metadata": {},
   "outputs": [
    {
     "name": "stdout",
     "output_type": "stream",
     "text": [
      "Tables available in our sqlite database: \n",
      "\n",
      "Player_Attributes\n",
      "Player\n",
      "Match\n",
      "League\n",
      "Country\n",
      "Team\n",
      "Team_Attributes\n"
     ]
    }
   ],
   "source": [
    "cursorObj.execute(\"SELECT name FROM sqlite_master WHERE type='table';\")\n",
    "rows = cursorObj.fetchall()\n",
    "\n",
    "print(\"Tables available in our sqlite database: \")\n",
    "print()\n",
    "for i in range(1,len(rows)): ## Let's show all the rows\n",
    "    print(rows[i][0])"
   ]
  },
  {
   "cell_type": "markdown",
   "metadata": {},
   "source": [
    "### Question 1 (20 points)​: \n",
    "Write a SQL query that lists all the players born between 1987 and 1990 inclusive, sort them from the oldest to the youngest. The output of this query should be of the form:\n",
    "\n",
    "Player Name | Birthday"
   ]
  },
  {
   "cell_type": "code",
   "execution_count": 109,
   "metadata": {},
   "outputs": [
    {
     "name": "stdout",
     "output_type": "stream",
     "text": [
      "                    Player Name             Birthday\n",
      "0                 Abdullah Omar  1987-01-01 00:00:00\n",
      "1                   Ben Alnwick  1987-01-01 00:00:00\n",
      "2                     Celestino  1987-01-02 00:00:00\n",
      "3                     Loic Remy  1987-01-02 00:00:00\n",
      "4                 Robert Milsom  1987-01-02 00:00:00\n",
      "...                         ...                  ...\n",
      "2938  Abdoulaye Diallo Sadio,22  1990-12-28 00:00:00\n",
      "2939              Marcos Alonso  1990-12-28 00:00:00\n",
      "2940              Sofiane Hanni  1990-12-29 00:00:00\n",
      "2941             Bruno Henrique  1990-12-30 00:00:00\n",
      "2942           Nathan Eccleston  1990-12-30 00:00:00\n",
      "\n",
      "[2943 rows x 2 columns]\n"
     ]
    }
   ],
   "source": [
    "players = pd.read_sql_query(\"SELECT player_name as 'Player Name', birthday as Birthday From Player \\\n",
    "    WHERE BIRTHDAY>=1987 and BIRTHDAY<=1991 \\\n",
    "    ORDER BY BIRTHDAY;\",conn)\n",
    "pprint(players)"
   ]
  },
  {
   "cell_type": "markdown",
   "metadata": {},
   "source": [
    "## Question 2 (20 points)​: \n",
    "Write a SQL query that ranks all countries and leagues based on the total amount of total goals scored per game in the whole dataset. Sort them by the largest to the smallest amount of goals. Note: Read this carefully. The output of this query should be of the form:\n",
    "\n",
    "Country | League Name |Total Goals Scored"
   ]
  },
  {
   "cell_type": "code",
   "execution_count": 101,
   "metadata": {},
   "outputs": [
    {
     "name": "stdout",
     "output_type": "stream",
     "text": [
      "        Country               League Name  Total Goals Scored\n",
      "0         Spain           Spain LIGA BBVA                8412\n",
      "1       England    England Premier League                8240\n",
      "2         Italy             Italy Serie A                7895\n",
      "3   Netherlands    Netherlands Eredivisie                7542\n",
      "4        France            France Ligue 1                7427\n",
      "5       Germany     Germany 1. Bundesliga                7103\n",
      "6      Portugal  Portugal Liga ZON Sagres                5201\n",
      "7       Belgium    Belgium Jupiler League                4841\n",
      "8      Scotland   Scotland Premier League                4804\n",
      "9        Poland        Poland Ekstraklasa                4656\n",
      "10  Switzerland  Switzerland Super League                4166\n"
     ]
    }
   ],
   "source": [
    "total_scores = pd.read_sql_query(\"SELECT Country.name AS 'Country',League.name AS 'League Name', \\\n",
    "                SUM(home_team_goal+away_team_goal) AS 'Total Goals Scored' FROM Match \\\n",
    "                JOIN Country ON Country.id=Match.country_id \\\n",
    "                JOIN League ON League.id=Match.league_id \\\n",
    "                GROUP BY Match.country_id,league_id \\\n",
    "                ORDER BY SUM(home_team_goal+away_team_goal) DESC;\",conn)\n",
    "pprint(total_scores)"
   ]
  },
  {
   "cell_type": "markdown",
   "metadata": {},
   "source": [
    "## Question 3 (20 points)​: \n",
    "Write a SQL query that ranks all teams by the average of all their attributes (not the players' attributes), sort them from best to worst. The output of this query should be of the form:\n",
    "\n",
    "Team Long Name | Average of Attributes"
   ]
  },
  {
   "cell_type": "code",
   "execution_count": 102,
   "metadata": {},
   "outputs": [
    {
     "name": "stdout",
     "output_type": "stream",
     "text": [
      "          Team Long Name  Average of Attributes\n",
      "0                Falkirk              60.000000\n",
      "1    Heart of Midlothian              58.955556\n",
      "2                 Celtic              57.370370\n",
      "3                 Napoli              57.074074\n",
      "4                Udinese              56.907407\n",
      "..                   ...                    ...\n",
      "283     Waasland-Beveren              40.407407\n",
      "284        De Graafschap              40.222222\n",
      "285     Naval 1° de Maio              38.111111\n",
      "286           Leixões SC              35.000000\n",
      "287     Sparta Rotterdam              33.888889\n",
      "\n",
      "[288 rows x 2 columns]\n"
     ]
    }
   ],
   "source": [
    "TeamRanks = pd.read_sql_query(\"SELECT T.team_long_name AS 'Team Long Name', TA.'Average of Attributes' FROM Team T\\\n",
    "            JOIN (SELECT team_api_id, (ifnull(AVG(buildUpPlaySpeed),0)+ifnull(AVG(buildUpPlayDribbling),0)+\\\n",
    "            ifnull(AVG(buildUpPlayPassing),0)+ifnull(AVG(chanceCreationPassing),0)+ifnull(AVG(chanceCreationCrossing),0)+\\\n",
    "            ifnull(AVG(chanceCreationShooting),0)+ifnull(AVG(defencePressure),0)+ifnull(AVG(defenceAggression),0)+\\\n",
    "            ifnull(AVG(defenceTeamWidth),0))/9 AS 'Average of Attributes' \\\n",
    "            FROM Team_Attributes GROUP BY team_api_id) TA ON T.team_api_id=TA.team_api_id \\\n",
    "            ORDER BY TA.'Average of Attributes' DESC;\",conn)\n",
    "pprint(TeamRanks)"
   ]
  },
  {
   "cell_type": "markdown",
   "metadata": {},
   "source": [
    "## Question 4 (20 points)​: \n",
    "Write a SQL query that ranks all teams by the average of their players' attributes, sort them by descending order displaying only the top 5. The output of this query should be of the form:\n",
    "\n",
    "Team Name| Number of Players | Player Attribute Average"
   ]
  },
  {
   "cell_type": "code",
   "execution_count": 103,
   "metadata": {},
   "outputs": [
    {
     "name": "stdout",
     "output_type": "stream",
     "text": [
      "        Team Long Name Number of Players  Player Attribute Average\n",
      "0              Falkirk              None                 60.000000\n",
      "1  Heart of Midlothian              None                 58.955556\n",
      "2               Celtic              None                 57.370370\n",
      "3               Napoli              None                 57.074074\n",
      "4              Udinese              None                 56.907407\n"
     ]
    }
   ],
   "source": [
    "TeamRanks2 = pd.read_sql_query(\"SELECT T.team_long_name AS 'Team Long Name', null AS 'Number of Players',TA.'Player Attribute Average' FROM Team T\\\n",
    "            JOIN (SELECT team_api_id, (ifnull(AVG(buildUpPlaySpeed),0)+ifnull(AVG(buildUpPlayDribbling),0)+\\\n",
    "            ifnull(AVG(buildUpPlayPassing),0)+ifnull(AVG(chanceCreationPassing),0)+ifnull(AVG(chanceCreationCrossing),0)+\\\n",
    "            ifnull(AVG(chanceCreationShooting),0)+ifnull(AVG(defencePressure),0)+ifnull(AVG(defenceAggression),0)+\\\n",
    "            ifnull(AVG(defenceTeamWidth),0))/9 AS 'Player Attribute Average' \\\n",
    "            FROM Team_Attributes GROUP BY team_api_id) TA ON T.team_api_id=TA.team_api_id \\\n",
    "            ORDER BY TA.'Player Attribute Average' DESC LIMIT 5;\",conn)\n",
    "pprint(TeamRanks2)\n"
   ]
  },
  {
   "cell_type": "markdown",
   "metadata": {},
   "source": [
    "## Question 5 (40 points)​: \n",
    "Write a SINGLE SQL query that finds the date that had the most goals scored on, per each different season and league. The output of this query should be of the form:\n",
    "\n",
    "Date (dd/mm/yy) | Season | League Name | Goals scored"
   ]
  },
  {
   "cell_type": "code",
   "execution_count": 104,
   "metadata": {},
   "outputs": [
    {
     "name": "stdout",
     "output_type": "stream",
     "text": [
      "   Date (dd/mm/yy)     Season               League Name  Goals scored\n",
      "0       29/11/2008  2008/2009    Belgium Jupiler League            26\n",
      "1       15/08/2009  2009/2010    Belgium Jupiler League            21\n",
      "2       22/09/2010  2010/2011    Belgium Jupiler League            28\n",
      "3       18/03/2012  2011/2012    Belgium Jupiler League            28\n",
      "4       28/07/2012  2012/2013    Belgium Jupiler League            25\n",
      "..             ...        ...                       ...           ...\n",
      "83      23/05/2012  2011/2012  Switzerland Super League            16\n",
      "84      01/06/2013  2012/2013  Switzerland Super League            23\n",
      "85      18/05/2014  2013/2014  Switzerland Super League            19\n",
      "86      29/05/2015  2014/2015  Switzerland Super League            25\n",
      "87      17/04/2016  2015/2016  Switzerland Super League            19\n",
      "\n",
      "[88 rows x 4 columns]\n"
     ]
    }
   ],
   "source": [
    "GoalsScored = pd.read_sql_query(\"SELECT strftime('%d/%m/%Y',MS.date) AS 'Date (dd/mm/yy)', MS.season AS 'Season', \\\n",
    "                LE.name AS 'League Name', MAX(MS.TotalGoals) AS 'Goals scored' From \\\n",
    "                (SELECT league_id,season,date,SUM(home_team_goal+away_team_goal) as TotalGoals From Match \\\n",
    "                    GROUP BY league_id,season,date) MS \\\n",
    "                JOIN League LE ON LE.id=MS.league_id \\\n",
    "                GROUP BY MS.league_id,MS.season;\",conn)\n",
    "pprint(GoalsScored)"
   ]
  },
  {
   "cell_type": "markdown",
   "metadata": {},
   "source": [
    "## Graduate Student Task (40 points)​: \n",
    "Write a SINGLE SQL query that finds the top 5 teams in terms of goals scored PER league for the 2008/2009 season. The output of this query should be of the form:\n",
    " \n",
    "Season | League | Rank | Team Name | Goals Scored"
   ]
  },
  {
   "cell_type": "code",
   "execution_count": 105,
   "metadata": {},
   "outputs": [
    {
     "name": "stdout",
     "output_type": "stream",
     "text": [
      "       Season  League  Rank                Team Name  Goals Scored\n",
      "0   2008/2009       1     1           RSC Anderlecht            75\n",
      "1   2008/2009       1     2                 KAA Gent            67\n",
      "2   2008/2009       1     3        Standard de Liège            66\n",
      "3   2008/2009       1     4           Club Brugge KV            59\n",
      "4   2008/2009       1     5         SV Zulte-Waregem            55\n",
      "5   2008/2009    1729     1                Liverpool            77\n",
      "6   2008/2009    1729     2                  Chelsea            68\n",
      "7   2008/2009    1729     3                  Arsenal            68\n",
      "8   2008/2009    1729     4        Manchester United            68\n",
      "9   2008/2009    1729     5          Manchester City            58\n",
      "10  2008/2009    4769     1   Olympique de Marseille            67\n",
      "11  2008/2009    4769     2    Girondins de Bordeaux            64\n",
      "12  2008/2009    4769     3       Olympique Lyonnais            52\n",
      "13  2008/2009    4769     4               LOSC Lille            51\n",
      "14  2008/2009    4769     5      Paris Saint-Germain            49\n",
      "15  2008/2009    7809     1            VfL Wolfsburg            80\n",
      "16  2008/2009    7809     2         FC Bayern Munich            71\n",
      "17  2008/2009    7809     3         SV Werder Bremen            64\n",
      "18  2008/2009    7809     4      TSG 1899 Hoffenheim            63\n",
      "19  2008/2009    7809     5            VfB Stuttgart            63\n",
      "20  2008/2009   10257     1                    Milan            70\n",
      "21  2008/2009   10257     2                    Inter            70\n",
      "22  2008/2009   10257     3                 Juventus            69\n",
      "23  2008/2009   10257     4                     Roma            64\n",
      "24  2008/2009   10257     5                  Udinese            61\n",
      "25  2008/2009   13274     1                     Ajax            74\n",
      "26  2008/2009   13274     2                      PSV            71\n",
      "27  2008/2009   13274     3            SC Heerenveen            66\n",
      "28  2008/2009   13274     4                       AZ            66\n",
      "29  2008/2009   13274     5                FC Twente            62\n",
      "30  2008/2009   15722     1             Wisła Kraków            53\n",
      "31  2008/2009   15722     2           Legia Warszawa            52\n",
      "32  2008/2009   15722     3              Lech Poznań            51\n",
      "33  2008/2009   15722     4              P. Warszawa            40\n",
      "34  2008/2009   15722     5            Śląsk Wrocław            40\n",
      "35  2008/2009   17642     1                 FC Porto            61\n",
      "36  2008/2009   17642     2               SL Benfica            54\n",
      "37  2008/2009   17642     3              CD Nacional            47\n",
      "38  2008/2009   17642     4              Sporting CP            45\n",
      "39  2008/2009   17642     5                 SC Braga            38\n",
      "40  2008/2009   19694     1                   Celtic            80\n",
      "41  2008/2009   19694     2                  Rangers            77\n",
      "42  2008/2009   19694     3            Dundee United            47\n",
      "43  2008/2009   19694     4               Motherwell            46\n",
      "44  2008/2009   19694     5                Hibernian            42\n",
      "45  2008/2009   21518     1             FC Barcelona           105\n",
      "46  2008/2009   21518     2           Real Madrid CF            83\n",
      "47  2008/2009   21518     3          Atlético Madrid            80\n",
      "48  2008/2009   21518     4              Valencia CF            68\n",
      "49  2008/2009   21518     5            Villarreal CF            61\n",
      "50  2008/2009   24558     1           BSC Young Boys            85\n",
      "51  2008/2009   24558     2                FC Zürich            80\n",
      "52  2008/2009   24558     3                 FC Basel            72\n",
      "53  2008/2009   24558     4  Grasshopper Club Zürich            57\n",
      "54  2008/2009   24558     5          Neuchâtel Xamax            50\n"
     ]
    }
   ],
   "source": [
    "GoalsByTeam = pd.read_sql_query(\"SELECT * From (SELECT MS.season AS 'Season', MS.league_id AS 'League', \\\n",
    "                ROW_NUMBER() OVER (PARTITION BY MS.season,MS.league_id ORDER BY SUM(TotalGoals) DESC) AS 'Rank', \\\n",
    "                T.team_long_name as 'Team Name', \\\n",
    "                SUM(TotalGoals) AS 'Goals Scored' From \\\n",
    "                (SELECT home_team_api_id AS team_api_id,league_id,season,SUM(home_team_goal) as TotalGoals \\\n",
    "                From Match WHERE season='2008/2009' GROUP BY season,league_id,home_team_api_id \\\n",
    "                UNION \\\n",
    "                SELECT away_team_api_id AS team_api_id,league_id,season,SUM(away_team_goal) as TotalGoals \\\n",
    "                From Match WHERE season='2008/2009' GROUP BY season,league_id,away_team_api_id) MS\\\n",
    "                JOIN Team T on T.team_api_id=MS.team_api_id \\\n",
    "                GROUP BY season,league_id,MS.team_api_id) Data \\\n",
    "                WHERE Data.Rank < 6;\",conn)\n",
    "\n",
    "pprint(GoalsByTeam)\n"
   ]
  },
  {
   "cell_type": "code",
   "execution_count": 106,
   "metadata": {},
   "outputs": [
    {
     "name": "stdout",
     "output_type": "stream",
     "text": [
      "Total Process Time : 0.42112399999999894\n"
     ]
    }
   ],
   "source": [
    "end = time.process_time()\n",
    "print(\"Total Process Time :\",(end - start))"
   ]
  },
  {
   "cell_type": "code",
   "execution_count": null,
   "metadata": {},
   "outputs": [],
   "source": []
  },
  {
   "cell_type": "code",
   "execution_count": null,
   "metadata": {},
   "outputs": [],
   "source": []
  },
  {
   "cell_type": "code",
   "execution_count": null,
   "metadata": {},
   "outputs": [],
   "source": []
  },
  {
   "cell_type": "code",
   "execution_count": null,
   "metadata": {},
   "outputs": [],
   "source": []
  }
 ],
 "metadata": {
  "kernelspec": {
   "display_name": "Python 3",
   "language": "python",
   "name": "python3"
  },
  "language_info": {
   "codemirror_mode": {
    "name": "ipython",
    "version": 3
   },
   "file_extension": ".py",
   "mimetype": "text/x-python",
   "name": "python",
   "nbconvert_exporter": "python",
   "pygments_lexer": "ipython3",
   "version": "3.7.4"
  }
 },
 "nbformat": 4,
 "nbformat_minor": 2
}
