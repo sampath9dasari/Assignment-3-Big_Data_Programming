{
 "cells": [
  {
   "cell_type": "code",
   "execution_count": 1,
   "metadata": {},
   "outputs": [],
   "source": [
    "import time\n",
    "\n",
    "start = time.process_time()\n",
    "\n",
    "from pyspark.sql import SparkSession \n",
    "spark = SparkSession.builder.getOrCreate() \n",
    "sc = spark.sparkContext\n",
    "\n",
    "from pyspark.sql import Row\n",
    "from pyspark.sql import HiveContext\n",
    "sqlContext = HiveContext(sc)\n",
    "\n",
    "import sqlite3\n",
    "import pandas as pd\n",
    "from pprint import pprint\n",
    "\n",
    "conn = None\n",
    "try:\n",
    "    conn = sqlite3.connect('database.sqlite')\n",
    "except Error as e:\n",
    "    print(e)\n"
   ]
  },
  {
   "cell_type": "code",
   "execution_count": 2,
   "metadata": {},
   "outputs": [
    {
     "name": "stdout",
     "output_type": "stream",
     "text": [
      "+---+-------------+--------------------+------------------+-------------------+------+------+\n",
      "| id|player_api_id|         player_name|player_fifa_api_id|           birthday|height|weight|\n",
      "+---+-------------+--------------------+------------------+-------------------+------+------+\n",
      "|  1|       505942|  Aaron Appindangoye|            218353|1992-02-29 00:00:00|182.88|   187|\n",
      "|  2|       155782|     Aaron Cresswell|            189615|1989-12-15 00:00:00|170.18|   146|\n",
      "|  3|       162549|         Aaron Doran|            186170|1991-05-13 00:00:00|170.18|   163|\n",
      "|  4|        30572|       Aaron Galindo|            140161|1982-05-08 00:00:00|182.88|   198|\n",
      "|  5|        23780|        Aaron Hughes|             17725|1979-11-08 00:00:00|182.88|   154|\n",
      "|  6|        27316|          Aaron Hunt|            158138|1986-09-04 00:00:00|182.88|   161|\n",
      "|  7|       564793|          Aaron Kuhl|            221280|1996-01-30 00:00:00|172.72|   146|\n",
      "|  8|        30895|        Aaron Lennon|            152747|1987-04-16 00:00:00| 165.1|   139|\n",
      "|  9|       528212|        Aaron Lennox|            206592|1993-02-19 00:00:00| 190.5|   181|\n",
      "| 10|       101042|       Aaron Meijers|            188621|1987-10-28 00:00:00|175.26|   170|\n",
      "| 11|        23889|       Aaron Mokoena|             47189|1980-11-25 00:00:00|182.88|   181|\n",
      "| 12|       231592|          Aaron Mooy|            194958|1990-09-15 00:00:00|175.26|   150|\n",
      "| 13|       163222|      Aaron Muirhead|            213568|1990-08-30 00:00:00|187.96|   168|\n",
      "| 14|        40719|        Aaron Niguez|            183853|1989-04-26 00:00:00|170.18|   143|\n",
      "| 15|        75489|        Aaron Ramsey|            186561|1990-12-26 00:00:00| 177.8|   154|\n",
      "| 16|       597948|       Aaron Splaine|            226014|1996-10-13 00:00:00|172.72|   163|\n",
      "| 17|       161644|Aaron Taylor-Sinc...|            213569|1991-04-08 00:00:00|182.88|   176|\n",
      "| 18|        23499|     Aaron Wilbraham|              2335|1979-10-21 00:00:00| 190.5|   159|\n",
      "| 19|       120919|   Aatif Chahechouhe|            187939|1986-07-02 00:00:00|175.26|   150|\n",
      "| 20|        46447|           Abasse Ba|            156626|1976-07-12 00:00:00|187.96|   185|\n",
      "+---+-------------+--------------------+------------------+-------------------+------+------+\n",
      "only showing top 20 rows\n",
      "\n"
     ]
    }
   ],
   "source": [
    "# pdTemp = pd.read_sql_query(\"SELECT * From Player;\",conn)\n",
    "# print(pdTemp.head(10))\n",
    "Player = spark.createDataFrame(pd.read_sql_query(\"SELECT * From Player;\",conn))\n",
    "Player.persist()\n",
    "Player.createOrReplaceTempView(\"Player\")\n",
    "Player_Attributes = spark.createDataFrame(pd.read_sql_query(\"SELECT * From Player_Attributes;\",conn))\n",
    "Player_Attributes.createOrReplaceTempView(\"Player_Attributes\")\n",
    "Match = spark.createDataFrame(pd.read_sql_query(\"SELECT * From Match;\",conn))\n",
    "Match.persist()\n",
    "Match.createOrReplaceTempView(\"Match\")\n",
    "League = spark.createDataFrame(pd.read_sql_query(\"SELECT * From League;\",conn))\n",
    "League.createOrReplaceTempView(\"League\")\n",
    "Country = spark.createDataFrame(pd.read_sql_query(\"SELECT * From Country;\",conn))\n",
    "League.persist()\n",
    "Country.createOrReplaceTempView(\"Country\")\n",
    "Team = spark.createDataFrame(pd.read_sql_query(\"SELECT * From Team;\",conn))\n",
    "Team.createOrReplaceTempView(\"Team\")\n",
    "Team_Attributes = spark.createDataFrame(pd.read_sql_query(\"SELECT * From Team_Attributes;\",conn))\n",
    "Team_Attributes.createOrReplaceTempView(\"Team_Attributes\")\n",
    "Player.show()"
   ]
  },
  {
   "cell_type": "code",
   "execution_count": 3,
   "metadata": {},
   "outputs": [
    {
     "name": "stdout",
     "output_type": "stream",
     "text": [
      "root\n",
      " |-- id: long (nullable = true)\n",
      " |-- team_fifa_api_id: long (nullable = true)\n",
      " |-- team_api_id: long (nullable = true)\n",
      " |-- date: string (nullable = true)\n",
      " |-- buildUpPlaySpeed: long (nullable = true)\n",
      " |-- buildUpPlaySpeedClass: string (nullable = true)\n",
      " |-- buildUpPlayDribbling: double (nullable = true)\n",
      " |-- buildUpPlayDribblingClass: string (nullable = true)\n",
      " |-- buildUpPlayPassing: long (nullable = true)\n",
      " |-- buildUpPlayPassingClass: string (nullable = true)\n",
      " |-- buildUpPlayPositioningClass: string (nullable = true)\n",
      " |-- chanceCreationPassing: long (nullable = true)\n",
      " |-- chanceCreationPassingClass: string (nullable = true)\n",
      " |-- chanceCreationCrossing: long (nullable = true)\n",
      " |-- chanceCreationCrossingClass: string (nullable = true)\n",
      " |-- chanceCreationShooting: long (nullable = true)\n",
      " |-- chanceCreationShootingClass: string (nullable = true)\n",
      " |-- chanceCreationPositioningClass: string (nullable = true)\n",
      " |-- defencePressure: long (nullable = true)\n",
      " |-- defencePressureClass: string (nullable = true)\n",
      " |-- defenceAggression: long (nullable = true)\n",
      " |-- defenceAggressionClass: string (nullable = true)\n",
      " |-- defenceTeamWidth: long (nullable = true)\n",
      " |-- defenceTeamWidthClass: string (nullable = true)\n",
      " |-- defenceDefenderLineClass: string (nullable = true)\n",
      "\n"
     ]
    }
   ],
   "source": [
    "Team_Attributes.printSchema()"
   ]
  },
  {
   "cell_type": "code",
   "execution_count": 4,
   "metadata": {},
   "outputs": [
    {
     "name": "stdout",
     "output_type": "stream",
     "text": [
      "root\n",
      " |-- id: long (nullable = true)\n",
      " |-- player_api_id: long (nullable = true)\n",
      " |-- player_name: string (nullable = true)\n",
      " |-- player_fifa_api_id: long (nullable = true)\n",
      " |-- birthday: string (nullable = true)\n",
      " |-- height: double (nullable = true)\n",
      " |-- weight: long (nullable = true)\n",
      "\n"
     ]
    }
   ],
   "source": [
    "Player.printSchema()"
   ]
  },
  {
   "cell_type": "code",
   "execution_count": 7,
   "metadata": {},
   "outputs": [
    {
     "name": "stdout",
     "output_type": "stream",
     "text": [
      "2943\n",
      "+--------------------+-------------------+\n",
      "|         Player Name|           birthday|\n",
      "+--------------------+-------------------+\n",
      "|       Abdullah Omar|1987-01-01 00:00:00|\n",
      "|         Ben Alnwick|1987-01-01 00:00:00|\n",
      "|           Loic Remy|1987-01-02 00:00:00|\n",
      "|       Robert Milsom|1987-01-02 00:00:00|\n",
      "|           Celestino|1987-01-02 00:00:00|\n",
      "|           Luis Dias|1987-01-03 00:00:00|\n",
      "|        Chris Turner|1987-01-03 00:00:00|\n",
      "|        Dani Estrada|1987-01-03 00:00:00|\n",
      "|    Przemyslaw Tyton|1987-01-04 00:00:00|\n",
      "|           Kay Voser|1987-01-04 00:00:00|\n",
      "|       Hans Martinez|1987-01-04 00:00:00|\n",
      "|       Danny Simpson|1987-01-04 00:00:00|\n",
      "|        Migjen Basha|1987-01-05 00:00:00|\n",
      "|   Esteban Casagolda|1987-01-05 00:00:00|\n",
      "|Claudio Lustenberger|1987-01-06 00:00:00|\n",
      "|       Davide Astori|1987-01-07 00:00:00|\n",
      "|  Michael McGlinchey|1987-01-07 00:00:00|\n",
      "|      Stefan Babovic|1987-01-07 00:00:00|\n",
      "|         Lucas Leiva|1987-01-09 00:00:00|\n",
      "|     Michele Rinaldi|1987-01-09 00:00:00|\n",
      "+--------------------+-------------------+\n",
      "only showing top 20 rows\n",
      "\n"
     ]
    }
   ],
   "source": [
    "Player.createOrReplaceTempView(\"Player\")\n",
    "results = sqlContext.sql(\"\"\"SELECT player_name AS `Player Name`, birthday from Player \\\n",
    "            WHERE SUBSTRING(birthday,0,4) IN ('1987','1988','1989','1990') ORDER BY birthday\"\"\")\n",
    "print(results.count())\n",
    "results.show()"
   ]
  },
  {
   "cell_type": "code",
   "execution_count": null,
   "metadata": {},
   "outputs": [],
   "source": [
    "results = spark.sql(\"\"\"SELECT first(Country.name) AS `Country`,first(League.name) AS `League Name`, \\\n",
    "                SUM(home_team_goal+away_team_goal) AS `Total Goals Scored` FROM Match, Country, League \\\n",
    "                WHERE Country.id=Match.country_id AND League.id=Match.league_id \\\n",
    "                GROUP BY Match.country_id,Match.league_id\"\"\")\n",
    "results.count()"
   ]
  },
  {
   "cell_type": "code",
   "execution_count": null,
   "metadata": {},
   "outputs": [],
   "source": []
  },
  {
   "cell_type": "code",
   "execution_count": null,
   "metadata": {},
   "outputs": [],
   "source": []
  },
  {
   "cell_type": "code",
   "execution_count": null,
   "metadata": {},
   "outputs": [],
   "source": []
  },
  {
   "cell_type": "code",
   "execution_count": null,
   "metadata": {},
   "outputs": [],
   "source": []
  },
  {
   "cell_type": "code",
   "execution_count": null,
   "metadata": {},
   "outputs": [],
   "source": []
  }
 ],
 "metadata": {
  "kernelspec": {
   "display_name": "Python 3",
   "language": "python",
   "name": "python3"
  },
  "language_info": {
   "codemirror_mode": {
    "name": "ipython",
    "version": 3
   },
   "file_extension": ".py",
   "mimetype": "text/x-python",
   "name": "python",
   "nbconvert_exporter": "python",
   "pygments_lexer": "ipython3",
   "version": "3.6.3"
  }
 },
 "nbformat": 4,
 "nbformat_minor": 2
}
